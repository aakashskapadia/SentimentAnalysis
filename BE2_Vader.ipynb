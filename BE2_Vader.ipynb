{
  "cells": [
    {
      "cell_type": "markdown",
      "metadata": {
        "_cell_guid": "3a22431b-497c-7853-ca93-fa041caf23d0",
        "id": "2NfpQN78nn4z"
      },
      "source": [
        "VADER, part of NLTK, is a sentiment analysis that includes intensifier analysis. Words such as very, tremendously, etc... are counted toward positive and negative scores for sentences. With that enhanced ability, each sentence's positivity, neutrality, negativity, and compound nature is scored by VADER and plotted for the entire debate. Additionally, it is then averaged across each answer by a candidate for a final debate score.\n",
        "\n",
        "##Charts\n",
        "Included are two charts and one print out. The printout is the mean and standard deviation of each question within the debate while the charts plot the total number of questions asked along with the number of answers each candidate provided. It is not assured that these two numbers will sum to be equal. The other chart is a box plot of the mean and standard deviation data for each debate.\n",
        "\n",
        "\n",
        "Hillary Clinton comes in on the Democratic side as being semantically more positive than Sanders.\n",
        "\n",
        "When looking at the final 5 toward the end of the primary season, Clinton is significantly higher than the others while Cruz and Kasich are mostly identical in terms of mean and distribution of their debate performances.\n"
      ]
    },
    {
      "cell_type": "code",
      "execution_count": null,
      "metadata": {
        "_cell_guid": "6b181faa-81c3-f84c-ab0f-3635f3a44431",
        "id": "L310haALnn43"
      },
      "outputs": [],
      "source": [
        "\n",
        "import numpy as np # linear algebra\n",
        "import pandas as pd # data processing, CSV file I/O (e.g. pd.read_csv)\n",
        "\n",
        "\n",
        "\n",
        "from subprocess import check_output\n",
        "# print(check_output([\"ls\", \"../input\"]).decode(\"utf8\"))\n",
        "# Any results you write to the current directory are saved as output.\n",
        "\n",
        "from matplotlib import pyplot as plt\n",
        "import nltk\n",
        "from nltk.sentiment.vader import SentimentIntensityAnalyzer\n",
        "from collections import defaultdict\n",
        "import seaborn as sns\n",
        "\n",
        "import pandas as pd\n",
        "pd.set_option('display.max_columns', None)"
      ]
    },
    {
      "cell_type": "code",
      "source": [
        "pip install vaderSentiment"
      ],
      "metadata": {
        "colab": {
          "base_uri": "https://localhost:8080/"
        },
        "id": "eHNQZiiEomi3",
        "outputId": "37127d41-e062-4aa5-8257-ff8d7160c5f6"
      },
      "execution_count": null,
      "outputs": [
        {
          "output_type": "stream",
          "name": "stdout",
          "text": [
            "Looking in indexes: https://pypi.org/simple, https://us-python.pkg.dev/colab-wheels/public/simple/\n",
            "Requirement already satisfied: vaderSentiment in /usr/local/lib/python3.7/dist-packages (3.3.2)\n",
            "Requirement already satisfied: requests in /usr/local/lib/python3.7/dist-packages (from vaderSentiment) (2.23.0)\n",
            "Requirement already satisfied: idna<3,>=2.5 in /usr/local/lib/python3.7/dist-packages (from requests->vaderSentiment) (2.10)\n",
            "Requirement already satisfied: urllib3!=1.25.0,!=1.25.1,<1.26,>=1.21.1 in /usr/local/lib/python3.7/dist-packages (from requests->vaderSentiment) (1.24.3)\n",
            "Requirement already satisfied: certifi>=2017.4.17 in /usr/local/lib/python3.7/dist-packages (from requests->vaderSentiment) (2022.9.24)\n",
            "Requirement already satisfied: chardet<4,>=3.0.2 in /usr/local/lib/python3.7/dist-packages (from requests->vaderSentiment) (3.0.4)\n"
          ]
        }
      ]
    },
    {
      "cell_type": "markdown",
      "source": [],
      "metadata": {
        "id": "zlrrc7GNomQu"
      }
    },
    {
      "cell_type": "code",
      "execution_count": null,
      "metadata": {
        "_cell_guid": "4a66a4e1-0d29-c5ce-3b18-09a84468f47c",
        "colab": {
          "base_uri": "https://localhost:8080/"
        },
        "id": "SIcwOtLQnn45",
        "outputId": "aaedfe9d-0e01-4c0b-c9b8-3d838654710b"
      },
      "outputs": [
        {
          "output_type": "execute_result",
          "data": {
            "text/plain": [
              "['Milwaukee, Wisconsin',\n",
              " 'Miami, Florida',\n",
              " 'Charleston, South Carolina',\n",
              " 'Greenville, South Carolina',\n",
              " 'Cleveland, Ohio',\n",
              " 'Boulder, Colorado',\n",
              " 'Las Vegas, Nevada',\n",
              " 'Manchester, New Hampshire',\n",
              " 'North Charleston, South Carolina',\n",
              " 'Flint, Michigan',\n",
              " 'Brooklyn, New York',\n",
              " 'Des Moines, Iowa',\n",
              " 'Durham, New Hampshire',\n",
              " 'Detroit, Michigan',\n",
              " 'Houston, Texas',\n",
              " 'Simi Valley, California']"
            ]
          },
          "metadata": {},
          "execution_count": 20
        }
      ],
      "source": [
        "debates = pd.read_csv(\"primary_debates_cleaned.csv\")\n",
        "debates = debates[debates.Speaker != 'AUDIENCE']\n",
        "debates = debates[debates.Speaker != 'CANDIDATES']\n",
        "debates = debates[debates.Speaker != 'BELL']\n",
        "debates = debates[debates.Speaker != 'UNKNOWN']\n",
        "debates = debates[debates.Speaker != 'OTHER']\n",
        "\n",
        "debates_list = []\n",
        "debates_location = []\n",
        "for location in debates.Location.unique():\n",
        "    debates_list.append(debates[debates.Location == location])\n",
        "    debates_location.append(location)\n",
        "debates_location"
      ]
    },
    {
      "cell_type": "code",
      "execution_count": null,
      "metadata": {
        "_cell_guid": "d14862b7-5c4c-1cb9-c482-b6c582709082",
        "id": "nhFKL7chnn46"
      },
      "outputs": [],
      "source": [
        "def score_speaker(speaker_df):\n",
        "    df_dict = {}\n",
        "    for i,response in speaker_df.iterrows():\n",
        "        scorer = SentimentIntensityAnalyzer()\n",
        "        scores = scorer.polarity_scores(response.Text)\n",
        "        df_dict[i] = scores\n",
        "    df = pd.DataFrame.from_dict(df_dict)\n",
        "    df = df.T\n",
        "    diff_score = df['pos'] - df['neg']\n",
        "    return diff_score"
      ]
    },
    {
      "cell_type": "code",
      "execution_count": null,
      "metadata": {
        "_cell_guid": "8a43dafd-0d09-9526-7aee-8620bcfac5a1",
        "id": "EjpwZPIjnn47"
      },
      "outputs": [],
      "source": [
        "def compile_dicts(debates_location, debates_list):\n",
        "    master_scores_dict = defaultdict(list)\n",
        "    master_debates_means = []\n",
        "    for location in range(len(debates_location)):\n",
        "        speaker_scores = {}\n",
        "        print(debates_location[location])\n",
        "        debate = debates_list[location]\n",
        "        # Print the number of times a candidate spoke\n",
        "        #speaker_answers = debate.Speaker.value_counts()\n",
        "        #speaker_answers.plot.bar()\n",
        "        #plt.xticks(rotation=90)\n",
        "        #plt.show()\n",
        "        # Assemble the polarity scores for each time the speaker spoke\n",
        "        for speaker in debate.Speaker.unique():\n",
        "            polarity_score = score_speaker(debate[debate.Speaker == speaker])\n",
        "            speaker_scores[speaker] = polarity_score\n",
        "            master_scores_dict[speaker].append(polarity_score)\n",
        "        speaker_scores_df = pd.DataFrame.from_dict(speaker_scores)\n",
        "        # Return the mean and standard deviation of all the scores\n",
        "        speaker_mean_std_df = pd.DataFrame([speaker_scores_df.mean(),speaker_scores_df.std()],index=['mean','std'])\n",
        "\n",
        "        debate_mean_df = pd.DataFrame([speaker_scores_df.T.mean()])\n",
        "        mean = debate_mean_df.mean(axis=1)\n",
        "        master_debates_means.append(mean)\n",
        "\n",
        "        print(\"\\n<<<<<<<>>>>>\\n\")\n",
        "        print(\"Mean: \" + str(mean.values[0]))\n",
        "        print(speaker_mean_std_df)\n",
        "        print(\"\\n<<<<<<>>>>>>\\n\")\n",
        "    return master_scores_dict, master_debates_means"
      ]
    },
    {
      "cell_type": "markdown",
      "metadata": {
        "_cell_guid": "64c2cf87-8477-0f7d-9bfc-b674bff5dbd4",
        "id": "LVklUsWwnn48"
      },
      "source": [
        "Below are the means and standard deviations of each debate printed in order"
      ]
    },
    {
      "cell_type": "code",
      "source": [
        "import nltk\n",
        "nltk.downloader.download('vader_lexicon')"
      ],
      "metadata": {
        "colab": {
          "base_uri": "https://localhost:8080/"
        },
        "id": "6BCySsQHo7K-",
        "outputId": "0bbb7421-e634-49d9-a08c-ab0e6384e379"
      },
      "execution_count": null,
      "outputs": [
        {
          "output_type": "stream",
          "name": "stderr",
          "text": [
            "[nltk_data] Downloading package vader_lexicon to /root/nltk_data...\n"
          ]
        },
        {
          "output_type": "execute_result",
          "data": {
            "text/plain": [
              "True"
            ]
          },
          "metadata": {},
          "execution_count": 23
        }
      ]
    },
    {
      "cell_type": "code",
      "execution_count": null,
      "metadata": {
        "_cell_guid": "39c48a1e-2066-56c6-03f1-fd4308ddbd32",
        "colab": {
          "base_uri": "https://localhost:8080/"
        },
        "id": "JrOyqQ6rnn48",
        "outputId": "8b926ed3-e8e2-4a15-988d-19150331f3ce"
      },
      "outputs": [
        {
          "output_type": "stream",
          "name": "stdout",
          "text": [
            "Milwaukee, Wisconsin\n",
            "\n",
            "<<<<<<<>>>>>\n",
            "\n",
            "Mean: 0.0694692417739628\n",
            "      Woodruff     Ifill   Clinton   Sanders     Regan      Seib    Jindal  \\\n",
            "mean  0.121500  0.091148  0.098085  0.035345  0.141200  0.009080  0.029920   \n",
            "std   0.149504  0.208310  0.149484  0.104283  0.205927  0.166224  0.115605   \n",
            "\n",
            "      QUESTION  Christie  Huckabee  Santorum    Cavuto  Bartiromo     Baker  \\\n",
            "mean  0.082789  0.072763  0.050318  0.080400  0.070079   0.162872  0.112469   \n",
            "std   0.162642  0.186930  0.131406  0.200205  0.172491   0.252978  0.258273   \n",
            "\n",
            "         Trump    Carson     Rubio    Kasich      Cruz      Bush   Fiorina  \\\n",
            "mean -0.049886  0.041538  0.085048  0.005034 -0.009543  0.087048  0.057333   \n",
            "std   0.349073  0.157788  0.130561  0.220453  0.117537  0.230835  0.134136   \n",
            "\n",
            "          Paul  \n",
            "mean  0.083576  \n",
            "std   0.168950  \n",
            "\n",
            "<<<<<<>>>>>>\n",
            "\n",
            "Miami, Florida\n",
            "\n",
            "<<<<<<<>>>>>\n",
            "\n",
            "Mean: 0.08160032626427406\n",
            "        Tapper    Kasich     Rubio      Cruz     Trump     Dinan      Bash  \\\n",
            "mean  0.087477  0.059100  0.015324  0.021977  0.042630  0.122850  0.132200   \n",
            "std   0.217438  0.091449  0.126842  0.189554  0.124995  0.153566  0.119208   \n",
            "\n",
            "        Hewitt     Ramos  Salinas (TRANSLATED)  Ramos (TRANSLATED)   Salinas  \\\n",
            "mean  0.104900  0.162429              0.135300            0.054750  0.077395   \n",
            "std   0.214074  0.275047              0.158811            0.147887  0.238954   \n",
            "\n",
            "       Clinton   Sanders   Tumulty  Sanders (VIDEO)  Ramos (VIDEO)  \\\n",
            "mean  0.101554  0.052082  0.150625        -0.073000       0.148500   \n",
            "std   0.199708  0.187332  0.256273         0.115966       0.210011   \n",
            "\n",
            "      Clinton (VIDEO)  QUESTION (TRANSLATED)  QUESTION  UNKNOWN (TRANSLATED)  \n",
            "mean         0.123500               0.041000  0.132750              0.109200  \n",
            "std          0.174655               0.059421  0.120143              0.097024  \n",
            "\n",
            "<<<<<<>>>>>>\n",
            "\n",
            "Charleston, South Carolina\n",
            "\n",
            "<<<<<<<>>>>>\n",
            "\n",
            "Mean: 0.07429080118694363\n",
            "          Holt   Clinton   Sanders  O'Malley  QUESTION  Mitchell\n",
            "mean  0.035097  0.056649  0.142573  0.100385  0.049000  0.010429\n",
            "std   0.155716  0.149798  0.293660  0.260189  0.101827  0.111130\n",
            "\n",
            "<<<<<<>>>>>>\n",
            "\n",
            "Greenville, South Carolina\n",
            "\n",
            "<<<<<<<>>>>>\n",
            "\n",
            "Mean: 0.04395388349514563\n",
            "      Dickerson     Trump    Kasich    Carson     Rubio      Bush      Cruz  \\\n",
            "mean   0.025422  0.057639  0.008900  0.020188  0.053538  0.062955  0.032478   \n",
            "std    0.097044  0.256488  0.143506  0.076406  0.154252  0.272365  0.115473   \n",
            "\n",
            "      Strassel   Garrett  \n",
            "mean  0.032118  0.085034  \n",
            "std   0.059600  0.170003  \n",
            "\n",
            "<<<<<<>>>>>>\n",
            "\n",
            "Cleveland, Ohio\n",
            "\n",
            "<<<<<<<>>>>>\n",
            "\n",
            "Mean: 0.07529442508710801\n",
            "         Kelly     Baier   Wallace     Trump      Paul    Carson     Rubio  \\\n",
            "mean  0.054552  0.105671  0.027413  0.099878 -0.067536  0.070294  0.122529   \n",
            "std   0.225622  0.272625  0.153518  0.307036  0.181624  0.222056  0.201892   \n",
            "\n",
            "          Bush      Cruz  Christie    Walker  Huckabee   Kasich  QUESTION  \\\n",
            "mean  0.083167  0.045250 -0.001727  0.088563  0.004222  0.17450  0.148375   \n",
            "std   0.106841  0.135314  0.133260  0.179697  0.156547  0.24872  0.129911   \n",
            "\n",
            "      Perry (VIDEO)  Fiorina (VIDEO)    Hemmer  MacCallum     Perry   Fiorina  \\\n",
            "mean         -0.024           -0.241  0.171783   0.076767  0.119556  0.025500   \n",
            "std             NaN              NaN  0.293914   0.192509  0.168928  0.109148   \n",
            "\n",
            "      Santorum    Jindal    Graham    Pataki   Gilmore  \n",
            "mean  0.070286  0.013222  0.016889  0.136200 -0.027125  \n",
            "std   0.029443  0.067651  0.039832  0.342827  0.137581  \n",
            "\n",
            "<<<<<<>>>>>>\n",
            "\n",
            "Boulder, Colorado\n",
            "\n",
            "<<<<<<<>>>>>\n",
            "\n",
            "Mean: 0.0954747899159664\n",
            "      Quintanilla    Kasich  Huckabee      Bush     Rubio     Trump    Carson  \\\n",
            "mean     0.098722  0.107217  0.051710  0.049500  0.064829  0.096636 -0.040000   \n",
            "std      0.239214  0.132213  0.241431  0.113938  0.156876  0.265012  0.189686   \n",
            "\n",
            "       Fiorina      Cruz  Christie      Paul   Harwood     Quick    Cramer  \\\n",
            "mean  0.035556  0.047250  0.025842  0.008929  0.147114  0.133107  0.084143   \n",
            "std   0.098873  0.179529  0.129952  0.083076  0.238522  0.263745  0.265780   \n",
            "\n",
            "      Santelli  Epperson    Jindal  Santorum    Pataki    Graham  \n",
            "mean  0.164400  0.199556  0.090167   0.05675  0.128559  0.070059  \n",
            "std   0.246724  0.252404  0.179416   0.22430  0.267971  0.205342  \n",
            "\n",
            "<<<<<<>>>>>>\n",
            "\n",
            "Las Vegas, Nevada\n",
            "\n",
            "<<<<<<<>>>>>\n",
            "\n",
            "Mean: 0.05257835497835499\n",
            "        Cooper    Chafee      Webb  O'Malley   Sanders   Clinton      Bash  \\\n",
            "mean  0.087085 -0.015417  0.081364  0.080104  0.016212  0.074907  0.083827   \n",
            "std   0.214179  0.100206  0.208139  0.186443  0.165235  0.188708  0.174691   \n",
            "\n",
            "         Lemon  QUESTION     Lopez   Blitzer    Graham    Pataki  Santorum  \\\n",
            "mean  0.089000 -0.059333  0.053778  0.074638  0.037617  0.082241  0.041848   \n",
            "std   0.117868  0.140390  0.079295  0.193616  0.271042  0.315012  0.106240   \n",
            "\n",
            "      Huckabee    Hewitt      Paul    Kasich  Christie   Fiorina      Bush  \\\n",
            "mean  0.000909  0.029446 -0.009235  0.064187 -0.000917  0.009100  0.000759   \n",
            "std   0.096492  0.210373  0.052893  0.139908  0.074095  0.095295  0.263172   \n",
            "\n",
            "         Rubio      Cruz    Carson     Trump  \n",
            "mean -0.023200 -0.076730  0.008533  0.091080  \n",
            "std   0.140891  0.228546  0.100407  0.259525  \n",
            "\n",
            "<<<<<<>>>>>>\n",
            "\n",
            "Manchester, New Hampshire\n",
            "\n",
            "<<<<<<<>>>>>\n",
            "\n",
            "Mean: 0.08749558638083228\n",
            "       Raddatz      Muir   Clinton  O'Malley   Sanders  Levesque  Mcelveen  \\\n",
            "mean  0.060983  0.149456  0.072987  0.049825  0.062025 -0.063333  0.117813   \n",
            "std   0.227041  0.209675  0.223861  0.178065  0.224450  0.101589  0.165979   \n",
            "\n",
            "      QUESTION  Christie     Trump      Cruz    Carson     Rubio      Bush  \\\n",
            "mean -0.047500  0.061290  0.064566  0.055933  0.118000  0.072477  0.067135   \n",
            "std   0.255266  0.184857  0.291192  0.216314  0.178906  0.262104  0.221007   \n",
            "\n",
            "        Kasich       Ham  \n",
            "mean  0.079783  0.105308  \n",
            "std   0.180267  0.210655  \n",
            "\n",
            "<<<<<<>>>>>>\n",
            "\n",
            "North Charleston, South Carolina\n",
            "\n",
            "<<<<<<<>>>>>\n",
            "\n",
            "Mean: 0.06736570247933883\n",
            "        Cavuto  Bartiromo      Cruz    Kasich  Christie      Bush     Rubio  \\\n",
            "mean  0.036250   0.179299  0.032265  0.030933  0.045737  0.079742  0.010062   \n",
            "std   0.185252   0.273546  0.138362  0.057855  0.073583  0.192460  0.130115   \n",
            "\n",
            "        Carson     Trump     Regan  Fiorina  QUESTION  Huckabee  Santorum  \n",
            "mean  0.118062 -0.006016  0.172355  0.01015  0.086727  0.050346  0.028000  \n",
            "std   0.267506  0.326858  0.260670  0.19885  0.252621  0.198407  0.092358  \n",
            "\n",
            "<<<<<<>>>>>>\n",
            "\n",
            "Flint, Michigan\n",
            "\n",
            "<<<<<<<>>>>>\n",
            "\n",
            "Mean: 0.0677893175074184\n",
            "        Cooper   Sanders   Clinton  QUESTION     Lemon\n",
            "mean  0.091009  0.030398  0.050861  0.188235  0.102429\n",
            "std   0.215732  0.169004  0.212733  0.256446  0.234396\n",
            "\n",
            "<<<<<<>>>>>>\n",
            "\n",
            "Brooklyn, New York\n",
            "\n",
            "<<<<<<<>>>>>\n",
            "\n",
            "Mean: 0.11167619047619047\n",
            "       Blitzer   Sanders   Clinton      Bash     Louis  QUESTION\n",
            "mean  0.194146  0.078588  0.083512  0.092833  0.125833     0.782\n",
            "std   0.284768  0.248307  0.205565  0.203543  0.221846       NaN\n",
            "\n",
            "<<<<<<>>>>>>\n",
            "\n",
            "Des Moines, Iowa\n",
            "\n",
            "<<<<<<<>>>>>\n",
            "\n",
            "Mean: 0.0772093023255814\n",
            "        Hemmer  Huckabee  Santorum   Gilmore  MacCallum   Fiorina     Baier  \\\n",
            "mean  0.225395  0.017222  0.135143  0.039308   0.104778 -0.042435  0.164717   \n",
            "std   0.293543  0.155101  0.159373  0.201942   0.248082  0.167797  0.256944   \n",
            "\n",
            "         Kelly   Wallace      Cruz     Rubio      Bush  Christie      Paul  \\\n",
            "mean  0.050328  0.076412  0.017872  0.030511  0.037200  0.035864  0.094857   \n",
            "std   0.241027  0.205312  0.164911  0.133048  0.157445  0.178426  0.209772   \n",
            "\n",
            "        Kasich    Carson  QUESTION  Rubio (VIDEO)  Cruz (VIDEO)  Dickerson  \\\n",
            "mean  0.140333  0.144778  0.062667      -0.073000         0.022   0.004646   \n",
            "std   0.278593  0.295196  0.137791       0.084161           NaN   0.205950   \n",
            "\n",
            "       Sanders   Clinton  O'Malley    Cordes    Cooney  Obradovich  \n",
            "mean  0.128516  0.088868  0.116051  0.078000  0.049000   -0.094500  \n",
            "std   0.372698  0.209724  0.205055  0.099988  0.083918    0.054892  \n",
            "\n",
            "<<<<<<>>>>>>\n",
            "\n",
            "Durham, New Hampshire\n",
            "\n",
            "<<<<<<<>>>>>\n",
            "\n",
            "Mean: 0.08790769230769231\n",
            "          Todd    Maddow   Sanders   Clinton\n",
            "mean  0.140217  0.100256  0.047772  0.073855\n",
            "std   0.217951  0.207108  0.201917  0.204080\n",
            "\n",
            "<<<<<<>>>>>>\n",
            "\n",
            "Detroit, Michigan\n",
            "\n",
            "<<<<<<<>>>>>\n",
            "\n",
            "Mean: 0.051516835016835016\n",
            "         Kelly     Baier   Wallace     Trump     Rubio      Cruz    Kasich  \\\n",
            "mean  0.106843  0.084458  0.096034  0.019555  0.032637  0.028017  0.062937   \n",
            "std   0.283873  0.296087  0.235798  0.286842  0.192235  0.213662  0.261262   \n",
            "\n",
            "      Cuomo (VIDEO)  Trump (VIDEO)  O'Reilly (VIDEO)  Hannity  Kasich (VIDEO)  \n",
            "mean       -0.07425      -0.001429               0.0    0.095          -0.053  \n",
            "std         0.14850       0.375001               NaN      NaN             NaN  \n",
            "\n",
            "<<<<<<>>>>>>\n",
            "\n",
            "Houston, Texas\n",
            "\n",
            "<<<<<<<>>>>>\n",
            "\n",
            "Mean: 0.05254738562091503\n",
            "       Blitzer    Carson    Kasich    Rubio      Cruz     Trump   Arrarás  \\\n",
            "mean  0.119250  0.052882  0.103933  0.02457  0.036049  0.005522  0.062500   \n",
            "std   0.225015  0.204616  0.194283  0.21896  0.198907  0.283731  0.172106   \n",
            "\n",
            "        Hewitt      Bash  \n",
            "mean  0.118654  0.097464  \n",
            "std   0.166255  0.180464  \n",
            "\n",
            "<<<<<<>>>>>>\n",
            "\n",
            "Simi Valley, California\n",
            "\n",
            "<<<<<<<>>>>>\n",
            "\n",
            "Mean: 0.10803150315031503\n",
            "        Tapper    Pataki  Santorum    Jindal    Graham    Hewitt      Bash  \\\n",
            "mean  0.183947  0.101514 -0.007370  0.053128  0.074042  0.153200  0.128535   \n",
            "std   0.256412  0.254249  0.142832  0.129164  0.190417  0.236107  0.210387   \n",
            "\n",
            "          Paul  Huckabee     Rubio      Cruz    Carson     Trump      Bush  \\\n",
            "mean  0.036556  0.055650  0.054909  0.045741  0.056800  0.072536  0.112676   \n",
            "std   0.149434  0.116574  0.158493  0.138289  0.222995  0.277706  0.267924   \n",
            "\n",
            "        Walker   Fiorina    Kasich  Christie  \n",
            "mean  0.023152  0.074604  0.057697  0.060844  \n",
            "std   0.184211  0.199437  0.168929  0.144673  \n",
            "\n",
            "<<<<<<>>>>>>\n",
            "\n"
          ]
        }
      ],
      "source": [
        "debater_scores, debate_means = compile_dicts(debates_location, debates_list)x"
      ]
    },
    {
      "cell_type": "markdown",
      "metadata": {
        "_cell_guid": "f1b18dcc-4246-aceb-5919-fc20f26786f9",
        "id": "iaeXuGOJnn49"
      },
      "source": [
        "#Chart of the average debate sentiment"
      ]
    },
    {
      "cell_type": "code",
      "execution_count": null,
      "metadata": {
        "_cell_guid": "7649282e-7e50-caee-5a8f-d20451e7be9f",
        "colab": {
          "base_uri": "https://localhost:8080/",
          "height": 265
        },
        "id": "9ZGFUTX7nn49",
        "outputId": "feb04f6c-c85e-40c0-bfb9-010468c4a2c4"
      },
      "outputs": [
        {
          "output_type": "display_data",
          "data": {
            "text/plain": [
              "<Figure size 432x288 with 1 Axes>"
            ],
            "image/png": "[encoded data removed]"
          },
          "metadata": {
            "needs_background": "light"
          }
        }
      ],
      "source": [
        "debate_means_df = pd.DataFrame.from_dict(debate_means)\n",
        "chart = debate_means_df.plot()"
      ]
    },
    {
      "cell_type": "code",
      "execution_count": null,
      "metadata": {
        "_cell_guid": "769e3c48-2879-5882-72e6-53595d6641ad",
        "id": "mSr-FJErnn4-"
      },
      "outputs": [],
      "source": [
        "plotting_df = pd.DataFrame(dtype='float')\n",
        "for speaker, scores in debater_scores.items():\n",
        "    s_scores = pd.Series(scores[0])\n",
        "    s_scores = s_scores.rename(speaker)\n",
        "    plotting_df = plotting_df.append(s_scores)\n",
        "\n",
        "plotting_df = plotting_df.T\n",
        "means = plotting_df.mean(axis=0)\n",
        "std = plotting_df.std(axis=0)"
      ]
    },
    {
      "cell_type": "markdown",
      "metadata": {
        "_cell_guid": "508a0545-3668-3af6-c68b-f2f03822f310",
        "id": "6QKIlLUvnn4-"
      },
      "source": [
        "#The Final 5"
      ]
    },
    {
      "cell_type": "code",
      "execution_count": null,
      "metadata": {
        "_cell_guid": "d79235ef-e238-3936-5436-4275c849cb16",
        "colab": {
          "base_uri": "https://localhost:8080/",
          "height": 337
        },
        "id": "rJ8zEGjvnn4_",
        "outputId": "a3e6e7f2-66cd-4463-8cf1-a3d981fcdfd0"
      },
      "outputs": [
        {
          "output_type": "stream",
          "name": "stderr",
          "text": [
            "/usr/local/lib/python3.7/dist-packages/matplotlib/cbook/__init__.py:1376: VisibleDeprecationWarning: Creating an ndarray from ragged nested sequences (which is a list-or-tuple of lists-or-tuples-or ndarrays with different lengths or shapes) is deprecated. If you meant to do this, you must specify 'dtype=object' when creating the ndarray.\n",
            "  X = np.atleast_1d(X.T if isinstance(X, np.ndarray) else np.asarray(X))\n"
          ]
        },
        {
          "output_type": "execute_result",
          "data": {
            "text/plain": [
              "<matplotlib.axes._subplots.AxesSubplot at 0x7f9886241650>"
            ]
          },
          "metadata": {},
          "execution_count": 27
        },
        {
          "output_type": "display_data",
          "data": {
            "text/plain": [
              "<Figure size 432x288 with 1 Axes>"
            ],
            "image/png": "[encoded data removed]"
          },
          "metadata": {
            "needs_background": "light"
          }
        }
      ],
      "source": [
        "plotting_df[['Cruz','Kasich','Clinton','Trump','Sanders']].plot.box()"
      ]
    },
    {
      "cell_type": "markdown",
      "metadata": {
        "_cell_guid": "af0794f1-c5eb-36c7-614b-e00f67f27551",
        "id": "dlTX02GVnn4_"
      },
      "source": [
        "#Means and Standard Deviations of the final 5"
      ]
    },
    {
      "cell_type": "code",
      "execution_count": null,
      "metadata": {
        "_cell_guid": "41ec19e2-25ee-0a5c-7358-b130bfe9c757",
        "colab": {
          "base_uri": "https://localhost:8080/"
        },
        "id": "hVbNk3sYnn4_",
        "outputId": "fa564b6d-8f32-4d89-ea12-440e3018865e"
      },
      "outputs": [
        {
          "output_type": "stream",
          "name": "stdout",
          "text": [
            "Cruz      -0.009543\n",
            "Kasich     0.005034\n",
            "Clinton    0.098085\n",
            "Trump     -0.049886\n",
            "Sanders    0.035345\n",
            "dtype: float64\n",
            "Cruz       0.117537\n",
            "Kasich     0.220453\n",
            "Clinton    0.149484\n",
            "Trump      0.349073\n",
            "Sanders    0.104283\n",
            "dtype: float64\n"
          ]
        }
      ],
      "source": [
        "print(means[['Cruz','Kasich','Clinton','Trump','Sanders']])\n",
        "print(std[['Cruz','Kasich','Clinton','Trump','Sanders']])"
      ]
    },
    {
      "cell_type": "markdown",
      "metadata": {
        "_cell_guid": "3e85e2cb-96b4-a572-2076-fadf12190faf",
        "id": "FA-dff6rnn5A"
      },
      "source": [
        "#Republican Debates"
      ]
    },
    {
      "cell_type": "code",
      "execution_count": null,
      "metadata": {
        "_cell_guid": "ba57b39b-8db3-3662-a11c-bf5e59ee9f0f",
        "colab": {
          "base_uri": "https://localhost:8080/",
          "height": 394
        },
        "id": "gnn1JuFWnn5A",
        "outputId": "ca4abf17-a56a-4ac2-cd16-aa6dba2d50e2"
      },
      "outputs": [
        {
          "output_type": "stream",
          "name": "stderr",
          "text": [
            "/usr/local/lib/python3.7/dist-packages/matplotlib/cbook/__init__.py:1376: VisibleDeprecationWarning: Creating an ndarray from ragged nested sequences (which is a list-or-tuple of lists-or-tuples-or ndarrays with different lengths or shapes) is deprecated. If you meant to do this, you must specify 'dtype=object' when creating the ndarray.\n",
            "  X = np.atleast_1d(X.T if isinstance(X, np.ndarray) else np.asarray(X))\n"
          ]
        },
        {
          "output_type": "execute_result",
          "data": {
            "text/plain": [
              "(array([ 1,  2,  3,  4,  5,  6,  7,  8,  9, 10, 11, 12, 13, 14, 15]),\n",
              " <a list of 15 Text major ticklabel objects>)"
            ]
          },
          "metadata": {},
          "execution_count": 29
        },
        {
          "output_type": "display_data",
          "data": {
            "text/plain": [
              "<Figure size 432x288 with 1 Axes>"
            ],
            "image/png": "[encoded data removed]"
          },
          "metadata": {
            "needs_background": "light"
          }
        }
      ],
      "source": [
        "plotting_df[['Rubio','Kasich','Trump','Cruz','Bush','Carson','Fiorina','Christie','Graham','Huckabee','Jindal','Perry','Paul','Walker','Santorum']].plot.box()\n",
        "plt.xticks(rotation=90)"
      ]
    },
    {
      "cell_type": "markdown",
      "metadata": {
        "_cell_guid": "9af8fd7b-e710-fe71-db7b-0d28aaf1104f",
        "id": "cI0IZrE4nn5A"
      },
      "source": [
        "#Means and Standard Deviations"
      ]
    },
    {
      "cell_type": "code",
      "execution_count": null,
      "metadata": {
        "_cell_guid": "175c5aa1-f58d-56bf-47c3-e3bcb4ccb795",
        "colab": {
          "base_uri": "https://localhost:8080/"
        },
        "id": "2qcnwXconn5B",
        "outputId": "7ca85388-7ae6-420c-d922-a1e3b8483037"
      },
      "outputs": [
        {
          "output_type": "stream",
          "name": "stdout",
          "text": [
            "Rubio       0.085048\n",
            "Kasich      0.005034\n",
            "Trump      -0.049886\n",
            "Cruz       -0.009543\n",
            "Bush        0.087048\n",
            "Carson      0.041538\n",
            "Fiorina     0.057333\n",
            "Christie    0.072763\n",
            "Graham      0.016889\n",
            "Huckabee    0.050318\n",
            "Jindal      0.029920\n",
            "Perry       0.119556\n",
            "Walker      0.088563\n",
            "Santorum    0.080400\n",
            "dtype: float64\n"
          ]
        }
      ],
      "source": [
        "print(means[['Rubio','Kasich','Trump','Cruz','Bush','Carson','Fiorina','Christie','Graham','Huckabee','Jindal','Perry','Walker','Santorum']])"
      ]
    },
    {
      "cell_type": "code",
      "execution_count": null,
      "metadata": {
        "_cell_guid": "2257556a-cfee-9dc0-0de9-e8c241e09a3a",
        "colab": {
          "base_uri": "https://localhost:8080/"
        },
        "id": "6utF94oUnn5B",
        "outputId": "d94e411b-74aa-4112-ccf2-bafa7d038903"
      },
      "outputs": [
        {
          "output_type": "stream",
          "name": "stdout",
          "text": [
            "Rubio       0.130561\n",
            "Kasich      0.220453\n",
            "Trump       0.349073\n",
            "Cruz        0.117537\n",
            "Bush        0.230835\n",
            "Carson      0.157788\n",
            "Fiorina     0.134136\n",
            "Christie    0.186930\n",
            "Graham      0.039832\n",
            "Huckabee    0.131406\n",
            "Jindal      0.115605\n",
            "Perry       0.168928\n",
            "Walker      0.179697\n",
            "Santorum    0.200205\n",
            "dtype: float64\n"
          ]
        }
      ],
      "source": [
        "print(std[['Rubio','Kasich','Trump','Cruz','Bush','Carson','Fiorina','Christie','Graham','Huckabee','Jindal','Perry','Walker','Santorum']])"
      ]
    },
    {
      "cell_type": "code",
      "execution_count": null,
      "metadata": {
        "_cell_guid": "6c370a4f-28b2-d699-75f8-07de5656eafb",
        "id": "J0gqhhWonn5B"
      },
      "outputs": [],
      "source": []
    }
  ],
  "metadata": {
    "_change_revision": 1251,
    "_is_fork": false,
    "kernelspec": {
      "display_name": "Python 3",
      "language": "python",
      "name": "python3"
    },
    "language_info": {
      "codemirror_mode": {
        "name": "ipython",
        "version": 3
      },
      "file_extension": ".py",
      "mimetype": "text/x-python",
      "name": "python",
      "nbconvert_exporter": "python",
      "pygments_lexer": "ipython3",
      "version": "3.5.2"
    },
    "colab": {
      "provenance": []
    }
  },
  "nbformat": 4,
  "nbformat_minor": 0
}