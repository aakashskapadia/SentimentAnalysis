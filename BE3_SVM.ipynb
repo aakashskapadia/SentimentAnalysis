{
  "nbformat": 4,
  "nbformat_minor": 0,
  "metadata": {
    "colab": {
      "provenance": []
    },
    "kernelspec": {
      "name": "python3",
      "display_name": "Python 3"
    },
    "language_info": {
      "name": "python"
    }
  },
  "cells": [
    {
      "cell_type": "code",
      "execution_count": null,
      "metadata": {
        "id": "-d4BCnPnwKCi"
      },
      "outputs": [],
      "source": [
        "# import modules\n",
        "import pandas as pd\n",
        "from sklearn.linear_model import LinearRegression\n",
        "from sklearn.model_selection import train_test_split\n",
        "\n",
        "# read the dataset\n",
        "df = pd.read_csv('primary_debates_cleaned.csv')\n",
        "\n",
        "# get the locations\n",
        "X = df.iloc[:, :-1]\n",
        "y = df.iloc[:, -1]\n",
        "\n",
        "# split the dataset\n",
        "X_train, X_test, y_train, y_test = train_test_split(\n",
        "    X, y, test_size=0.05, random_state=0)"
      ]
    },
    {
      "cell_type": "code",
      "source": [
        "trainData, testData = train_test_split(df, test_size=0.2, random_state=25)\n",
        "\n",
        "print(f\"No. of training examples: {trainData.shape[0]}\")\n",
        "print(f\"No. of testing examples: {testData.shape[0]}\")"
      ],
      "metadata": {
        "colab": {
          "base_uri": "https://localhost:8080/"
        },
        "id": "e-aa0uZfwc4S",
        "outputId": "06f75d2d-6a3d-4e56-a37d-081581b02d5f"
      },
      "execution_count": null,
      "outputs": [
        {
          "output_type": "stream",
          "name": "stdout",
          "text": [
            "No. of training examples: 10605\n",
            "No. of testing examples: 2652\n"
          ]
        }
      ]
    },
    {
      "cell_type": "code",
      "source": [
        "trainData.head()"
      ],
      "metadata": {
        "colab": {
          "base_uri": "https://localhost:8080/",
          "height": 337
        },
        "id": "d82jbOIywisb",
        "outputId": "581f860a-996d-433e-9540-0065c64c4183"
      },
      "execution_count": null,
      "outputs": [
        {
          "output_type": "execute_result",
          "data": {
            "text/plain": [
              "       Line   Speaker                                               Text  \\\n",
              "2215    313  Huckabee  And I'm still one who says that we can get rid...   \n",
              "10366   668     Rubio                    He is now dividing Europe up...   \n",
              "1145     60  AUDIENCE                                (BOOING) (LAUGHTER)   \n",
              "8317     76      Muir                Governor, thank you. Senator Rubio?   \n",
              "2984    465     Trump                           Or somebody else. Right.   \n",
              "\n",
              "             Date       Party                    Location  \\\n",
              "2215   08-06-2015  Republican             Cleveland, Ohio   \n",
              "10366  03-03-2016  Republican           Detroit, Michigan   \n",
              "1145      2/13/16  Republican  Greenville, South Carolina   \n",
              "8317   02-06-2016  Republican   Manchester, New Hampshire   \n",
              "2984     10/28/15  Republican           Boulder, Colorado   \n",
              "\n",
              "                                                     URL Label  \n",
              "2215   http://www.presidency.ucsb.edu/ws/index.php?pi...  pos   \n",
              "10366  http://www.presidency.ucsb.edu/ws/index.php?pi...   neg  \n",
              "1145   http://www.presidency.ucsb.edu/ws/index.php?pi...  neg   \n",
              "8317   http://www.presidency.ucsb.edu/ws/index.php?pi...   pos  \n",
              "2984   http://www.presidency.ucsb.edu/ws/index.php?pi...   neg  "
            ],
            "text/html": [
              "\n",
              "  <div id=\"df-074e8d8c-67f6-45ad-acde-6e9e0c243f25\">\n",
              "    <div class=\"colab-df-container\">\n",
              "      <div>\n",
              "<style scoped>\n",
              "    .dataframe tbody tr th:only-of-type {\n",
              "        vertical-align: middle;\n",
              "    }\n",
              "\n",
              "    .dataframe tbody tr th {\n",
              "        vertical-align: top;\n",
              "    }\n",
              "\n",
              "    .dataframe thead th {\n",
              "        text-align: right;\n",
              "    }\n",
              "</style>\n",
              "<table border=\"1\" class=\"dataframe\">\n",
              "  <thead>\n",
              "    <tr style=\"text-align: right;\">\n",
              "      <th></th>\n",
              "      <th>Line</th>\n",
              "      <th>Speaker</th>\n",
              "      <th>Text</th>\n",
              "      <th>Date</th>\n",
              "      <th>Party</th>\n",
              "      <th>Location</th>\n",
              "      <th>URL</th>\n",
              "      <th>Label</th>\n",
              "    </tr>\n",
              "  </thead>\n",
              "  <tbody>\n",
              "    <tr>\n",
              "      <th>2215</th>\n",
              "      <td>313</td>\n",
              "      <td>Huckabee</td>\n",
              "      <td>And I'm still one who says that we can get rid...</td>\n",
              "      <td>08-06-2015</td>\n",
              "      <td>Republican</td>\n",
              "      <td>Cleveland, Ohio</td>\n",
              "      <td>http://www.presidency.ucsb.edu/ws/index.php?pi...</td>\n",
              "      <td>pos</td>\n",
              "    </tr>\n",
              "    <tr>\n",
              "      <th>10366</th>\n",
              "      <td>668</td>\n",
              "      <td>Rubio</td>\n",
              "      <td>He is now dividing Europe up...</td>\n",
              "      <td>03-03-2016</td>\n",
              "      <td>Republican</td>\n",
              "      <td>Detroit, Michigan</td>\n",
              "      <td>http://www.presidency.ucsb.edu/ws/index.php?pi...</td>\n",
              "      <td>neg</td>\n",
              "    </tr>\n",
              "    <tr>\n",
              "      <th>1145</th>\n",
              "      <td>60</td>\n",
              "      <td>AUDIENCE</td>\n",
              "      <td>(BOOING) (LAUGHTER)</td>\n",
              "      <td>2/13/16</td>\n",
              "      <td>Republican</td>\n",
              "      <td>Greenville, South Carolina</td>\n",
              "      <td>http://www.presidency.ucsb.edu/ws/index.php?pi...</td>\n",
              "      <td>neg</td>\n",
              "    </tr>\n",
              "    <tr>\n",
              "      <th>8317</th>\n",
              "      <td>76</td>\n",
              "      <td>Muir</td>\n",
              "      <td>Governor, thank you. Senator Rubio?</td>\n",
              "      <td>02-06-2016</td>\n",
              "      <td>Republican</td>\n",
              "      <td>Manchester, New Hampshire</td>\n",
              "      <td>http://www.presidency.ucsb.edu/ws/index.php?pi...</td>\n",
              "      <td>pos</td>\n",
              "    </tr>\n",
              "    <tr>\n",
              "      <th>2984</th>\n",
              "      <td>465</td>\n",
              "      <td>Trump</td>\n",
              "      <td>Or somebody else. Right.</td>\n",
              "      <td>10/28/15</td>\n",
              "      <td>Republican</td>\n",
              "      <td>Boulder, Colorado</td>\n",
              "      <td>http://www.presidency.ucsb.edu/ws/index.php?pi...</td>\n",
              "      <td>neg</td>\n",
              "    </tr>\n",
              "  </tbody>\n",
              "</table>\n",
              "</div>\n",
              "      <button class=\"colab-df-convert\" onclick=\"convertToInteractive('df-074e8d8c-67f6-45ad-acde-6e9e0c243f25')\"\n",
              "              title=\"Convert this dataframe to an interactive table.\"\n",
              "              style=\"display:none;\">\n",
              "        \n",
              "  <svg xmlns=\"http://www.w3.org/2000/svg\" height=\"24px\"viewBox=\"0 0 24 24\"\n",
              "       width=\"24px\">\n",
              "    <path d=\"M0 0h24v24H0V0z\" fill=\"none\"/>\n",
              "    <path d=\"M18.56 5.44l.94 2.06.94-2.06 2.06-.94-2.06-.94-.94-2.06-.94 2.06-2.06.94zm-11 1L8.5 8.5l.94-2.06 2.06-.94-2.06-.94L8.5 2.5l-.94 2.06-2.06.94zm10 10l.94 2.06.94-2.06 2.06-.94-2.06-.94-.94-2.06-.94 2.06-2.06.94z\"/><path d=\"M17.41 7.96l-1.37-1.37c-.4-.4-.92-.59-1.43-.59-.52 0-1.04.2-1.43.59L10.3 9.45l-7.72 7.72c-.78.78-.78 2.05 0 2.83L4 21.41c.39.39.9.59 1.41.59.51 0 1.02-.2 1.41-.59l7.78-7.78 2.81-2.81c.8-.78.8-2.07 0-2.86zM5.41 20L4 18.59l7.72-7.72 1.47 1.35L5.41 20z\"/>\n",
              "  </svg>\n",
              "      </button>\n",
              "      \n",
              "  <style>\n",
              "    .colab-df-container {\n",
              "      display:flex;\n",
              "      flex-wrap:wrap;\n",
              "      gap: 12px;\n",
              "    }\n",
              "\n",
              "    .colab-df-convert {\n",
              "      background-color: #E8F0FE;\n",
              "      border: none;\n",
              "      border-radius: 50%;\n",
              "      cursor: pointer;\n",
              "      display: none;\n",
              "      fill: #1967D2;\n",
              "      height: 32px;\n",
              "      padding: 0 0 0 0;\n",
              "      width: 32px;\n",
              "    }\n",
              "\n",
              "    .colab-df-convert:hover {\n",
              "      background-color: #E2EBFA;\n",
              "      box-shadow: 0px 1px 2px rgba(60, 64, 67, 0.3), 0px 1px 3px 1px rgba(60, 64, 67, 0.15);\n",
              "      fill: #174EA6;\n",
              "    }\n",
              "\n",
              "    [theme=dark] .colab-df-convert {\n",
              "      background-color: #3B4455;\n",
              "      fill: #D2E3FC;\n",
              "    }\n",
              "\n",
              "    [theme=dark] .colab-df-convert:hover {\n",
              "      background-color: #434B5C;\n",
              "      box-shadow: 0px 1px 3px 1px rgba(0, 0, 0, 0.15);\n",
              "      filter: drop-shadow(0px 1px 2px rgba(0, 0, 0, 0.3));\n",
              "      fill: #FFFFFF;\n",
              "    }\n",
              "  </style>\n",
              "\n",
              "      <script>\n",
              "        const buttonEl =\n",
              "          document.querySelector('#df-074e8d8c-67f6-45ad-acde-6e9e0c243f25 button.colab-df-convert');\n",
              "        buttonEl.style.display =\n",
              "          google.colab.kernel.accessAllowed ? 'block' : 'none';\n",
              "\n",
              "        async function convertToInteractive(key) {\n",
              "          const element = document.querySelector('#df-074e8d8c-67f6-45ad-acde-6e9e0c243f25');\n",
              "          const dataTable =\n",
              "            await google.colab.kernel.invokeFunction('convertToInteractive',\n",
              "                                                     [key], {});\n",
              "          if (!dataTable) return;\n",
              "\n",
              "          const docLinkHtml = 'Like what you see? Visit the ' +\n",
              "            '<a target=\"_blank\" href=https://colab.research.google.com/notebooks/data_table.ipynb>data table notebook</a>'\n",
              "            + ' to learn more about interactive tables.';\n",
              "          element.innerHTML = '';\n",
              "          dataTable['output_type'] = 'display_data';\n",
              "          await google.colab.output.renderOutput(dataTable, element);\n",
              "          const docLink = document.createElement('div');\n",
              "          docLink.innerHTML = docLinkHtml;\n",
              "          element.appendChild(docLink);\n",
              "        }\n",
              "      </script>\n",
              "    </div>\n",
              "  </div>\n",
              "  "
            ]
          },
          "metadata": {},
          "execution_count": 9
        }
      ]
    },
    {
      "cell_type": "code",
      "source": [
        "testData.head()"
      ],
      "metadata": {
        "colab": {
          "base_uri": "https://localhost:8080/",
          "height": 337
        },
        "id": "E58d6tMjwmWz",
        "outputId": "076bf63a-5e51-4811-876b-95ab15d0bf1d"
      },
      "execution_count": null,
      "outputs": [
        {
          "output_type": "execute_result",
          "data": {
            "text/plain": [
              "       Line   Speaker                                               Text  \\\n",
              "9573    191   Sanders                With all -- with all due respect...   \n",
              "8340     99     Rubio  Chris, everybody -- you said you weren't going...   \n",
              "10805   369  AUDIENCE                                         (APPLAUSE)   \n",
              "8294     53  AUDIENCE                                         (APPLAUSE)   \n",
              "4301    274   Sanders  Against the Republican leadership, who all tho...   \n",
              "\n",
              "             Date       Party                   Location  \\\n",
              "9573     11/14/15  Democratic           Des Moines, Iowa   \n",
              "8340   02-06-2016  Republican  Manchester, New Hampshire   \n",
              "10805     2/25/16  Republican             Houston, Texas   \n",
              "8294   02-06-2016  Republican  Manchester, New Hampshire   \n",
              "4301     12/19/15  Democratic  Manchester, New Hampshire   \n",
              "\n",
              "                                                     URL Label  \n",
              "9573   http://www.presidency.ucsb.edu/ws/index.php?pi...   pos  \n",
              "8340   http://www.presidency.ucsb.edu/ws/index.php?pi...   neg  \n",
              "10805  http://www.presidency.ucsb.edu/ws/index.php?pi...  neg   \n",
              "8294   http://www.presidency.ucsb.edu/ws/index.php?pi...   neg  \n",
              "4301   http://www.presidency.ucsb.edu/ws/index.php?pi...   neg  "
            ],
            "text/html": [
              "\n",
              "  <div id=\"df-05544180-536f-44e3-bbd7-692537c8056f\">\n",
              "    <div class=\"colab-df-container\">\n",
              "      <div>\n",
              "<style scoped>\n",
              "    .dataframe tbody tr th:only-of-type {\n",
              "        vertical-align: middle;\n",
              "    }\n",
              "\n",
              "    .dataframe tbody tr th {\n",
              "        vertical-align: top;\n",
              "    }\n",
              "\n",
              "    .dataframe thead th {\n",
              "        text-align: right;\n",
              "    }\n",
              "</style>\n",
              "<table border=\"1\" class=\"dataframe\">\n",
              "  <thead>\n",
              "    <tr style=\"text-align: right;\">\n",
              "      <th></th>\n",
              "      <th>Line</th>\n",
              "      <th>Speaker</th>\n",
              "      <th>Text</th>\n",
              "      <th>Date</th>\n",
              "      <th>Party</th>\n",
              "      <th>Location</th>\n",
              "      <th>URL</th>\n",
              "      <th>Label</th>\n",
              "    </tr>\n",
              "  </thead>\n",
              "  <tbody>\n",
              "    <tr>\n",
              "      <th>9573</th>\n",
              "      <td>191</td>\n",
              "      <td>Sanders</td>\n",
              "      <td>With all -- with all due respect...</td>\n",
              "      <td>11/14/15</td>\n",
              "      <td>Democratic</td>\n",
              "      <td>Des Moines, Iowa</td>\n",
              "      <td>http://www.presidency.ucsb.edu/ws/index.php?pi...</td>\n",
              "      <td>pos</td>\n",
              "    </tr>\n",
              "    <tr>\n",
              "      <th>8340</th>\n",
              "      <td>99</td>\n",
              "      <td>Rubio</td>\n",
              "      <td>Chris, everybody -- you said you weren't going...</td>\n",
              "      <td>02-06-2016</td>\n",
              "      <td>Republican</td>\n",
              "      <td>Manchester, New Hampshire</td>\n",
              "      <td>http://www.presidency.ucsb.edu/ws/index.php?pi...</td>\n",
              "      <td>neg</td>\n",
              "    </tr>\n",
              "    <tr>\n",
              "      <th>10805</th>\n",
              "      <td>369</td>\n",
              "      <td>AUDIENCE</td>\n",
              "      <td>(APPLAUSE)</td>\n",
              "      <td>2/25/16</td>\n",
              "      <td>Republican</td>\n",
              "      <td>Houston, Texas</td>\n",
              "      <td>http://www.presidency.ucsb.edu/ws/index.php?pi...</td>\n",
              "      <td>neg</td>\n",
              "    </tr>\n",
              "    <tr>\n",
              "      <th>8294</th>\n",
              "      <td>53</td>\n",
              "      <td>AUDIENCE</td>\n",
              "      <td>(APPLAUSE)</td>\n",
              "      <td>02-06-2016</td>\n",
              "      <td>Republican</td>\n",
              "      <td>Manchester, New Hampshire</td>\n",
              "      <td>http://www.presidency.ucsb.edu/ws/index.php?pi...</td>\n",
              "      <td>neg</td>\n",
              "    </tr>\n",
              "    <tr>\n",
              "      <th>4301</th>\n",
              "      <td>274</td>\n",
              "      <td>Sanders</td>\n",
              "      <td>Against the Republican leadership, who all tho...</td>\n",
              "      <td>12/19/15</td>\n",
              "      <td>Democratic</td>\n",
              "      <td>Manchester, New Hampshire</td>\n",
              "      <td>http://www.presidency.ucsb.edu/ws/index.php?pi...</td>\n",
              "      <td>neg</td>\n",
              "    </tr>\n",
              "  </tbody>\n",
              "</table>\n",
              "</div>\n",
              "      <button class=\"colab-df-convert\" onclick=\"convertToInteractive('df-05544180-536f-44e3-bbd7-692537c8056f')\"\n",
              "              title=\"Convert this dataframe to an interactive table.\"\n",
              "              style=\"display:none;\">\n",
              "        \n",
              "  <svg xmlns=\"http://www.w3.org/2000/svg\" height=\"24px\"viewBox=\"0 0 24 24\"\n",
              "       width=\"24px\">\n",
              "    <path d=\"M0 0h24v24H0V0z\" fill=\"none\"/>\n",
              "    <path d=\"M18.56 5.44l.94 2.06.94-2.06 2.06-.94-2.06-.94-.94-2.06-.94 2.06-2.06.94zm-11 1L8.5 8.5l.94-2.06 2.06-.94-2.06-.94L8.5 2.5l-.94 2.06-2.06.94zm10 10l.94 2.06.94-2.06 2.06-.94-2.06-.94-.94-2.06-.94 2.06-2.06.94z\"/><path d=\"M17.41 7.96l-1.37-1.37c-.4-.4-.92-.59-1.43-.59-.52 0-1.04.2-1.43.59L10.3 9.45l-7.72 7.72c-.78.78-.78 2.05 0 2.83L4 21.41c.39.39.9.59 1.41.59.51 0 1.02-.2 1.41-.59l7.78-7.78 2.81-2.81c.8-.78.8-2.07 0-2.86zM5.41 20L4 18.59l7.72-7.72 1.47 1.35L5.41 20z\"/>\n",
              "  </svg>\n",
              "      </button>\n",
              "      \n",
              "  <style>\n",
              "    .colab-df-container {\n",
              "      display:flex;\n",
              "      flex-wrap:wrap;\n",
              "      gap: 12px;\n",
              "    }\n",
              "\n",
              "    .colab-df-convert {\n",
              "      background-color: #E8F0FE;\n",
              "      border: none;\n",
              "      border-radius: 50%;\n",
              "      cursor: pointer;\n",
              "      display: none;\n",
              "      fill: #1967D2;\n",
              "      height: 32px;\n",
              "      padding: 0 0 0 0;\n",
              "      width: 32px;\n",
              "    }\n",
              "\n",
              "    .colab-df-convert:hover {\n",
              "      background-color: #E2EBFA;\n",
              "      box-shadow: 0px 1px 2px rgba(60, 64, 67, 0.3), 0px 1px 3px 1px rgba(60, 64, 67, 0.15);\n",
              "      fill: #174EA6;\n",
              "    }\n",
              "\n",
              "    [theme=dark] .colab-df-convert {\n",
              "      background-color: #3B4455;\n",
              "      fill: #D2E3FC;\n",
              "    }\n",
              "\n",
              "    [theme=dark] .colab-df-convert:hover {\n",
              "      background-color: #434B5C;\n",
              "      box-shadow: 0px 1px 3px 1px rgba(0, 0, 0, 0.15);\n",
              "      filter: drop-shadow(0px 1px 2px rgba(0, 0, 0, 0.3));\n",
              "      fill: #FFFFFF;\n",
              "    }\n",
              "  </style>\n",
              "\n",
              "      <script>\n",
              "        const buttonEl =\n",
              "          document.querySelector('#df-05544180-536f-44e3-bbd7-692537c8056f button.colab-df-convert');\n",
              "        buttonEl.style.display =\n",
              "          google.colab.kernel.accessAllowed ? 'block' : 'none';\n",
              "\n",
              "        async function convertToInteractive(key) {\n",
              "          const element = document.querySelector('#df-05544180-536f-44e3-bbd7-692537c8056f');\n",
              "          const dataTable =\n",
              "            await google.colab.kernel.invokeFunction('convertToInteractive',\n",
              "                                                     [key], {});\n",
              "          if (!dataTable) return;\n",
              "\n",
              "          const docLinkHtml = 'Like what you see? Visit the ' +\n",
              "            '<a target=\"_blank\" href=https://colab.research.google.com/notebooks/data_table.ipynb>data table notebook</a>'\n",
              "            + ' to learn more about interactive tables.';\n",
              "          element.innerHTML = '';\n",
              "          dataTable['output_type'] = 'display_data';\n",
              "          await google.colab.output.renderOutput(dataTable, element);\n",
              "          const docLink = document.createElement('div');\n",
              "          docLink.innerHTML = docLinkHtml;\n",
              "          element.appendChild(docLink);\n",
              "        }\n",
              "      </script>\n",
              "    </div>\n",
              "  </div>\n",
              "  "
            ]
          },
          "metadata": {},
          "execution_count": 10
        }
      ]
    },
    {
      "cell_type": "code",
      "source": [
        "from sklearn.feature_extraction.text import TfidfVectorizer\n",
        "# Create feature vectors\n",
        "vectorizer = TfidfVectorizer(min_df = 5,\n",
        "                             max_df = 0.8,\n",
        "                             sublinear_tf = True,\n",
        "                             use_idf = True)\n",
        "train_vectors = vectorizer.fit_transform(trainData['Text'])\n",
        "test_vectors = vectorizer.transform(testData['Text'])"
      ],
      "metadata": {
        "id": "kK1Kx0IGwqJ5"
      },
      "execution_count": null,
      "outputs": []
    },
    {
      "cell_type": "code",
      "source": [
        "import time\n",
        "from sklearn import svm\n",
        "from sklearn.metrics import classification_report\n",
        "# Perform classification with SVM, kernel=linear\n",
        "classifier_linear = svm.SVC(kernel='linear')\n",
        "t0 = time.time()\n",
        "classifier_linear.fit(train_vectors, trainData['Label'])\n",
        "t1 = time.time()\n",
        "prediction_linear = classifier_linear.predict(test_vectors)\n",
        "t2 = time.time()\n",
        "time_linear_train = t1-t0\n",
        "time_linear_predict = t2-t1\n",
        "# results\n",
        "print(\"Training time: %fs; Prediction time: %fs\" % (time_linear_train, time_linear_predict))\n",
        "report = classification_report(testData['Label'], prediction_linear, output_dict=True)\n",
        "print('positive: ', report['pos'])\n",
        "print('negative: ', report['neg'])"
      ],
      "metadata": {
        "colab": {
          "base_uri": "https://localhost:8080/"
        },
        "id": "MEYQc6ChxZoC",
        "outputId": "a8da5d70-9424-4e95-e3c4-d449b62b76a3"
      },
      "execution_count": null,
      "outputs": [
        {
          "output_type": "stream",
          "name": "stdout",
          "text": [
            "Training time: 27.802100s; Prediction time: 4.392682s\n",
            "positive:  {'precision': 0.29814814814814816, 'recall': 0.2072072072072072, 'f1-score': 0.24449506454062264, 'support': 777}\n",
            "negative:  {'precision': 0.3230042016806723, 'recall': 0.7028571428571428, 'f1-score': 0.44260525368837716, 'support': 875}\n"
          ]
        }
      ]
    },
    {
      "cell_type": "code",
      "source": [
        "review = \"\"\"I do not like this country\"\"\"\n",
        "review_vector = vectorizer.transform([review]) # vectorizing\n",
        "print(classifier_linear.predict(review_vector))"
      ],
      "metadata": {
        "colab": {
          "base_uri": "https://localhost:8080/"
        },
        "id": "KZ3e5W3F1CkA",
        "outputId": "4b7fd3f0-99f3-466d-f251-eee7fa580e7c"
      },
      "execution_count": null,
      "outputs": [
        {
          "output_type": "stream",
          "name": "stdout",
          "text": [
            "['neg']\n"
          ]
        }
      ]
    },
    {
      "cell_type": "code",
      "source": [
        "review = \"\"\"I hate america\"\"\"\n",
        "review_vector = vectorizer.transform([review]) # vectorizing\n",
        "print(classifier_linear.predict(review_vector))"
      ],
      "metadata": {
        "colab": {
          "base_uri": "https://localhost:8080/"
        },
        "id": "uv4HeAB317rh",
        "outputId": "71d4b4f3-f91a-4490-bc19-0f3e0921bb5f"
      },
      "execution_count": null,
      "outputs": [
        {
          "output_type": "stream",
          "name": "stdout",
          "text": [
            "['neg']\n"
          ]
        }
      ]
    },
    {
      "cell_type": "code",
      "source": [
        "review = \"\"\"I love this country and I hope for it to be good \"\"\"\n",
        "review_vector = vectorizer.transform([review]) # vectorizing\n",
        "print(classifier_linear.predict(review_vector))"
      ],
      "metadata": {
        "colab": {
          "base_uri": "https://localhost:8080/"
        },
        "id": "jEcfVTPP2EZI",
        "outputId": "a3290a9e-687d-47e9-b511-b4251ff6929c"
      },
      "execution_count": null,
      "outputs": [
        {
          "output_type": "stream",
          "name": "stdout",
          "text": [
            "['pos']\n"
          ]
        }
      ]
    },
    {
      "cell_type": "code",
      "source": [],
      "metadata": {
        "id": "hJjhknRH2ffJ"
      },
      "execution_count": null,
      "outputs": []
    }
  ]
}