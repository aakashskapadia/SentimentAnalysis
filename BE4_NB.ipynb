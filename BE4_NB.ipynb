{
  "nbformat": 4,
  "nbformat_minor": 0,
  "metadata": {
    "colab": {
      "provenance": []
    },
    "kernelspec": {
      "name": "python3",
      "display_name": "Python 3"
    },
    "language_info": {
      "name": "python"
    }
  },
  "cells": [
    {
      "cell_type": "code",
      "execution_count": null,
      "metadata": {
        "colab": {
          "base_uri": "https://localhost:8080/"
        },
        "id": "P23vFBDqAFiD",
        "outputId": "17c5cc46-7d49-46d0-8e06-f67355b1a87f"
      },
      "outputs": [
        {
          "output_type": "stream",
          "name": "stdout",
          "text": [
            "   Line   Speaker                                               Text  \\\n",
            "0     1  Woodruff  Good evening, and thank you. We are happy to w...   \n",
            "1     2     Ifill  We want to also extend our warm thanks to Milw...   \n",
            "2     3  AUDIENCE                                         (APPLAUSE)   \n",
            "3     4  Woodruff  Welcome, Senator, great to see you. And former...   \n",
            "4     5  AUDIENCE                                         (APPLAUSE)   \n",
            "\n",
            "         Date       Party              Location  \\\n",
            "0  02-11-2016  Democratic  Milwaukee, Wisconsin   \n",
            "1  02-11-2016  Democratic  Milwaukee, Wisconsin   \n",
            "2  02-11-2016  Democratic  Milwaukee, Wisconsin   \n",
            "3  02-11-2016  Democratic  Milwaukee, Wisconsin   \n",
            "4  02-11-2016  Democratic  Milwaukee, Wisconsin   \n",
            "\n",
            "                                                 URL Label  polarity  \n",
            "0  http://www.presidency.ucsb.edu/ws/index.php?pi...   pos         1  \n",
            "1  http://www.presidency.ucsb.edu/ws/index.php?pi...   pos         1  \n",
            "2  http://www.presidency.ucsb.edu/ws/index.php?pi...   neg         0  \n",
            "3  http://www.presidency.ucsb.edu/ws/index.php?pi...   neg         0  \n",
            "4  http://www.presidency.ucsb.edu/ws/index.php?pi...   pos         1  \n",
            "1915                                           (applause)\n",
            "4799                                  thank you governor.\n",
            "5329                                           (applause)\n",
            "9109    secretary clinton, do you want 30 seconds on t...\n",
            "1770    ninety-two percent conservative voting record,...\n",
            "Name: Text, dtype: object\n",
            "10656    and yet, there is the perception in the latino...\n",
            "9446     that's what i understand is the request from t...\n",
            "3207     governor pataki, let's talk a little bit about...\n",
            "9167                         thank you, secretary clinton.\n",
            "8338                    you didn't want to go back, chris.\n",
            "Name: Text, dtype: object\n",
            "1915    1\n",
            "4799    0\n",
            "5329    1\n",
            "9109    1\n",
            "1770    1\n",
            "Name: polarity, dtype: int64\n",
            "10656    0\n",
            "9446     0\n",
            "3207     1\n",
            "9167     0\n",
            "8338     1\n",
            "Name: polarity, dtype: int64\n"
          ]
        }
      ],
      "source": [
        "\n",
        "import pandas as pd\n",
        "from sklearn.model_selection import train_test_split\n",
        "import joblib\n",
        "from sklearn.feature_extraction.text import CountVectorizer\n",
        "pd.set_option('display.max_columns',None)\n",
        "data = pd.read_csv('primary_debates_cleaned (1).csv')\n",
        "\n",
        "print(data.head())\n",
        "\n",
        "def preprocess_data(data):\n",
        "    # Convert text to lowercase\n",
        "    data['Text'] = data['Text'].str.strip().str.lower()\n",
        "    return data\n",
        "\n",
        "data = preprocess_data(data)\n",
        "# Split into training and testing data\n",
        "x = data['Text']\n",
        "y = data['polarity']\n",
        "x, x_test, y, y_test = train_test_split(x,y, stratify=y, test_size=0.25, random_state=42)\n",
        "\n",
        "print(x.head())\n",
        "print(x_test.head())\n",
        "print(y.head())\n",
        "print(y_test.head())\n",
        "\n"
      ]
    },
    {
      "cell_type": "code",
      "source": [
        "# Split into training and testing data\n",
        "x = data['Text']\n",
        "y = data['polarity']\n",
        "x, x_test, y, y_test = train_test_split(x,y, stratify=y, test_size=0.25, random_state=42)"
      ],
      "metadata": {
        "id": "8IwRxd0vA2OE"
      },
      "execution_count": null,
      "outputs": []
    },
    {
      "cell_type": "code",
      "source": [
        "# Vectorize text reviews to numbers\n",
        "vec = CountVectorizer(stop_words='english')\n",
        "x = vec.fit_transform(x).toarray()\n",
        "x_test = vec.transform(x_test).toarray()"
      ],
      "metadata": {
        "id": "l1o9FwuZBmKl"
      },
      "execution_count": null,
      "outputs": []
    },
    {
      "cell_type": "code",
      "source": [
        "from sklearn.naive_bayes import MultinomialNB\n",
        "\n",
        "model = MultinomialNB()\n",
        "model.fit(x, y)"
      ],
      "metadata": {
        "colab": {
          "base_uri": "https://localhost:8080/"
        },
        "id": "U54NtubvBsCX",
        "outputId": "6a4b0ec1-1346-4568-90e0-f6f8e42c564e"
      },
      "execution_count": null,
      "outputs": [
        {
          "output_type": "execute_result",
          "data": {
            "text/plain": [
              "MultinomialNB()"
            ]
          },
          "metadata": {},
          "execution_count": 6
        }
      ]
    },
    {
      "cell_type": "code",
      "source": [
        "model.score(x_test, y_test)"
      ],
      "metadata": {
        "colab": {
          "base_uri": "https://localhost:8080/"
        },
        "id": "k77AQ9HzBvGP",
        "outputId": "bd17867f-1d6c-482f-f6b7-e7c3810f0033"
      },
      "execution_count": null,
      "outputs": [
        {
          "output_type": "execute_result",
          "data": {
            "text/plain": [
              "0.5092006033182503"
            ]
          },
          "metadata": {},
          "execution_count": 7
        }
      ]
    },
    {
      "cell_type": "code",
      "source": [
        "model.predict(vec.transform(['I hate this country!']))\n"
      ],
      "metadata": {
        "colab": {
          "base_uri": "https://localhost:8080/"
        },
        "id": "sEwK8U9iBypA",
        "outputId": "296a57cd-0623-4651-a1d5-de7da8015de8"
      },
      "execution_count": null,
      "outputs": [
        {
          "output_type": "execute_result",
          "data": {
            "text/plain": [
              "array([0])"
            ]
          },
          "metadata": {},
          "execution_count": 8
        }
      ]
    },
    {
      "cell_type": "code",
      "source": [],
      "metadata": {
        "id": "ZdYZgX6mB9zk"
      },
      "execution_count": null,
      "outputs": []
    }
  ]
}